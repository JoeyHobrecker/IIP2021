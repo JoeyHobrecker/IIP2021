{
 "cells": [
  {
   "cell_type": "markdown",
   "metadata": {},
   "source": [
    "# Training Pipeline Demonstration\n",
    "Install dependencies as described in the README before running these cells."
   ]
  },
  {
   "cell_type": "code",
   "execution_count": null,
   "metadata": {},
   "outputs": [],
   "source": [
    "import pandas as pd\n",
    "import matplotlib.pyplot as plt\n",
    "from data_loader import load_dataset\n",
    "from preprocessing import window_and_balance\n",
    "from feature_extraction import extract_all_features\n",
    "from train_pipeline import run_kfold, run_loso"
   ]
  },
  {
   "cell_type": "code",
   "execution_count": null,
   "metadata": {},
   "outputs": [],
   "source": [
    "X_raw, y_labels, subject_ids = load_dataset('../data/')\n",
    "X_win, y_win, subj_win = window_and_balance(X_raw, y_labels, subject_ids)\n",
    "X_feat = extract_all_features(X_win)\n",
    "X_feat.shape"
   ]
  },
  {
   "cell_type": "code",
   "execution_count": null,
   "metadata": {},
   "outputs": [],
   "source": [
    "kfold_results = run_kfold(X_feat, y_win)\n",
    "kfold_results"
   ]
  },
  {
   "cell_type": "code",
   "execution_count": null,
   "metadata": {},
   "outputs": [],
   "source": [
    "loso_results = run_loso(X_feat, y_win, subj_win)\n",
    "loso_results"
   ]
  },
  {
   "cell_type": "markdown",
   "metadata": {},
   "source": [
    "TODO: Plot ROC curve here."
   ]
  }
 ],
 "metadata": {
  "kernelspec": {
   "display_name": "Python 3",
   "language": "python",
   "name": "python3"
  },
  "language_info": {
   "name": "python",
   "version": "3.8"
  }
 },
 "nbformat": 4,
 "nbformat_minor": 4
}
